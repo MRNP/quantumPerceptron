{
 "cells": [
  {
   "cell_type": "code",
   "execution_count": 1,
   "metadata": {},
   "outputs": [
    {
     "name": "stdout",
     "output_type": "stream",
     "text": [
      "Populating the interactive namespace from numpy and matplotlib\n"
     ]
    }
   ],
   "source": [
    "%pylab inline\n",
    "import pandas as pd"
   ]
  },
  {
   "cell_type": "code",
   "execution_count": 2,
   "metadata": {},
   "outputs": [],
   "source": [
    "ndata = 30\n",
    "ndimensions = 2\n",
    "X = random.random((ndata, ndimensions))*5-2.5\n",
    "y = []\n",
    "for x in X:\n",
    "    if(x[0]+x[1]>0):\n",
    "        y.append(0)\n",
    "    else:\n",
    "        y.append(1)\n",
    "df = pd.DataFrame(insert(X,2,y,axis=1))\n",
    "df.to_csv(\"data.csv\", index=False, header=False)"
   ]
  },
  {
   "cell_type": "code",
   "execution_count": 3,
   "metadata": {},
   "outputs": [
    {
     "name": "stdout",
     "output_type": "stream",
     "text": [
      "[[ 1.73286974  0.69004951]\n",
      " [-0.01619728  1.92340544]\n",
      " [ 2.31583384 -1.93285475]\n",
      " [ 1.93575901 -0.94702316]\n",
      " [-1.8643519  -1.53958477]\n",
      " [-1.90784961  1.67409047]\n",
      " [ 1.5183849  -2.01502114]\n",
      " [-2.42958807  0.68201745]\n",
      " [-1.09696228 -1.59458534]\n",
      " [-1.53053863 -0.32433934]\n",
      " [ 0.42898221  1.98711045]\n",
      " [ 1.77714687 -2.2003822 ]\n",
      " [-0.51074689 -2.30445757]\n",
      " [ 1.4152571  -0.59759238]\n",
      " [-0.2679596   0.15486163]\n",
      " [ 1.64733682 -1.00715747]\n",
      " [-2.03126225  2.14365152]\n",
      " [ 0.64424534 -1.7080891 ]\n",
      " [-2.47965118  1.97154368]\n",
      " [ 1.52570752 -1.99002181]\n",
      " [-0.69322605  1.59471503]\n",
      " [-2.32659827  1.50672646]\n",
      " [ 1.87626144  0.14865357]\n",
      " [-1.1908978   0.66425154]\n",
      " [ 1.88884157  0.55684669]\n",
      " [-0.48446507 -0.24063765]\n",
      " [-2.30401829  2.43137154]\n",
      " [ 0.97026242 -1.44491329]\n",
      " [-1.76427498  0.28573268]]\n",
      "[0. 0. 0. 0. 1. 1. 1. 1. 1. 1. 0. 1. 1. 0. 1. 0. 0. 1. 1. 1. 0. 1. 0. 1.\n",
      " 0. 1. 0. 1. 1.]\n",
      "[[ 1.          1.73286974  0.69004951]\n",
      " [ 1.         -0.01619728  1.92340544]\n",
      " [ 1.          2.31583384 -1.93285475]\n",
      " [ 1.          1.93575901 -0.94702316]\n",
      " [ 1.         -1.8643519  -1.53958477]\n",
      " [ 1.         -1.90784961  1.67409047]\n",
      " [ 1.          1.5183849  -2.01502114]\n",
      " [ 1.         -2.42958807  0.68201745]\n",
      " [ 1.         -1.09696228 -1.59458534]\n",
      " [ 1.         -1.53053863 -0.32433934]\n",
      " [ 1.          0.42898221  1.98711045]\n",
      " [ 1.          1.77714687 -2.2003822 ]\n",
      " [ 1.         -0.51074689 -2.30445757]\n",
      " [ 1.          1.4152571  -0.59759238]\n",
      " [ 1.         -0.2679596   0.15486163]\n",
      " [ 1.          1.64733682 -1.00715747]\n",
      " [ 1.         -2.03126225  2.14365152]\n",
      " [ 1.          0.64424534 -1.7080891 ]\n",
      " [ 1.         -2.47965118  1.97154368]\n",
      " [ 1.          1.52570752 -1.99002181]\n",
      " [ 1.         -0.69322605  1.59471503]\n",
      " [ 1.         -2.32659827  1.50672646]\n",
      " [ 1.          1.87626144  0.14865357]\n",
      " [ 1.         -1.1908978   0.66425154]\n",
      " [ 1.          1.88884157  0.55684669]\n",
      " [ 1.         -0.48446507 -0.24063765]\n",
      " [ 1.         -2.30401829  2.43137154]\n",
      " [ 1.          0.97026242 -1.44491329]\n",
      " [ 1.         -1.76427498  0.28573268]]\n"
     ]
    }
   ],
   "source": [
    "data = np.genfromtxt('data.csv', delimiter=',', skip_header=1)\n",
    "\n",
    "X = data[:,:-1]\n",
    "d = data[:,-1]\n",
    "X_ext = insert(X,0,1, axis=1)\n",
    "\n",
    "print (X)\n",
    "print (d)\n",
    "print (X_ext)"
   ]
  },
  {
   "cell_type": "code",
   "execution_count": 4,
   "metadata": {},
   "outputs": [
    {
     "data": {
      "image/png": "[encoded data removed]",
      "text/plain": [
       "<matplotlib.figure.Figure at 0x11bd911d0>"
      ]
     },
     "metadata": {},
     "output_type": "display_data"
    }
   ],
   "source": [
    "c0 = d==0\n",
    "c1 = d==1\n",
    "\n",
    "plot(X[:,0][c0], X[:,1][c0], 'o', mec='r', mfc='none')\n",
    "plot(X[:,0][c1], X[:,1][c1], 'o', mec='g', mfc='none')\n",
    "show()"
   ]
  },
  {
   "cell_type": "code",
   "execution_count": 7,
   "metadata": {},
   "outputs": [],
   "source": [
    "weights = random.rand(5000,3)*20-10"
   ]
  },
  {
   "cell_type": "code",
   "execution_count": 8,
   "metadata": {},
   "outputs": [],
   "source": [
    "oracle = []\n",
    "for w in weights:\n",
    "    error = 0\n",
    "    for i,h in enumerate(dot(X_ext,w)):\n",
    "        if(h>0):\n",
    "            y=1\n",
    "        else:\n",
    "            y=0\n",
    "        error+=0.5*sqrt((d[i]-y)**2)\n",
    "    oracle.append(error)"
   ]
  },
  {
   "cell_type": "code",
   "execution_count": 9,
   "metadata": {},
   "outputs": [
    {
     "name": "stdout",
     "output_type": "stream",
     "text": [
      "0.0\n"
     ]
    },
    {
     "data": {
      "text/plain": [
       "array([-0.58709484, -7.31319886, -7.96673469])"
      ]
     },
     "execution_count": 9,
     "metadata": {},
     "output_type": "execute_result"
    }
   ],
   "source": [
    "print (min(oracle))\n",
    "w = weights[argmin(oracle)]\n",
    "w"
   ]
  },
  {
   "cell_type": "code",
   "execution_count": 10,
   "metadata": {},
   "outputs": [],
   "source": [
    "w = [0, 1, 1]"
   ]
  },
  {
   "cell_type": "code",
   "execution_count": 11,
   "metadata": {},
   "outputs": [
    {
     "data": {
      "image/png": "[encoded data removed]",
      "text/plain": [
       "<matplotlib.figure.Figure at 0x11be6e2e8>"
      ]
     },
     "metadata": {},
     "output_type": "display_data"
    }
   ],
   "source": [
    "plot(X[:,0][c0], X[:,1][c0], 'o', mec='r', mfc='none')\n",
    "plot(X[:,0][c1], X[:,1][c1], 'o', mec='g', mfc='none')\n",
    "x=linspace(-2.5,2.5,20)\n",
    "plot(x, [-(w[0]+w[1]*x)/w[2] for x in x], c='b', mfc='none')\n",
    "show()"
   ]
  },
  {
   "cell_type": "code",
   "execution_count": null,
   "metadata": {},
   "outputs": [],
   "source": []
  }
 ],
 "metadata": {
  "kernelspec": {
   "display_name": "Python 3",
   "language": "python",
   "name": "python3"
  },
  "language_info": {
   "codemirror_mode": {
    "name": "ipython",
    "version": 3
   },
   "file_extension": ".py",
   "mimetype": "text/x-python",
   "name": "python",
   "nbconvert_exporter": "python",
   "pygments_lexer": "ipython3",
   "version": "3.6.6"
  }
 },
 "nbformat": 4,
 "nbformat_minor": 2
}
