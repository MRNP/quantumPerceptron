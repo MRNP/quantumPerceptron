{
 "cells": [
  {
   "cell_type": "code",
   "execution_count": 1,
   "metadata": {},
   "outputs": [
    {
     "name": "stdout",
     "output_type": "stream",
     "text": [
      "Populating the interactive namespace from numpy and matplotlib\n"
     ]
    }
   ],
   "source": [
    "%pylab inline\n",
    "import pandas as pd"
   ]
  },
  {
   "cell_type": "code",
   "execution_count": 23,
   "metadata": {},
   "outputs": [],
   "source": [
    "ndata = 30\n",
    "ndimensions = 2\n",
    "X = random.random((ndata, ndimensions))*5-2.5\n",
    "y = []\n",
    "for x in X:\n",
    "    if(x[0]+x[1]>0):\n",
    "        y.append(0)\n",
    "    else:\n",
    "        y.append(1)\n",
    "df = pd.DataFrame(insert(X,2,y,axis=1))\n",
    "df.to_csv(\"data.csv\", index=False, header=False)"
   ]
  },
  {
   "cell_type": "code",
   "execution_count": 24,
   "metadata": {},
   "outputs": [
    {
     "name": "stdout",
     "output_type": "stream",
     "text": [
      "[[-1.13671627 -1.69917353]\n",
      " [-1.33300914 -2.32638398]\n",
      " [ 0.79654179  1.44552721]\n",
      " [ 0.55711671 -0.43771341]\n",
      " [ 1.56473819 -1.74932168]\n",
      " [ 0.30042022  1.33190714]\n",
      " [ 0.51638999  2.27346203]\n",
      " [-0.94682308  1.62410525]\n",
      " [-0.32069737 -1.72143964]\n",
      " [ 1.19510781  1.64106083]\n",
      " [-1.32200522 -1.38012943]\n",
      " [ 1.22764441  2.12588493]\n",
      " [-2.18530333 -2.32660136]\n",
      " [-2.33509127  0.26009494]\n",
      " [ 2.13159125  1.39653522]\n",
      " [-0.13536575 -0.8702287 ]\n",
      " [-1.84963087 -0.62782328]\n",
      " [ 1.23806743  1.48662999]\n",
      " [-1.23616326  0.37398189]\n",
      " [-0.84260477 -0.802401  ]\n",
      " [ 1.165871   -2.12534144]\n",
      " [-0.21963378 -0.53792099]\n",
      " [-0.73237485  2.02231258]\n",
      " [-0.99493957 -0.35069619]\n",
      " [-1.06727861  1.51479083]\n",
      " [-0.49014404  1.92509793]\n",
      " [ 0.71850813 -1.17777898]\n",
      " [-1.68959044 -0.65114487]\n",
      " [-2.06118001 -1.01756546]]\n",
      "[1. 1. 0. 0. 1. 0. 0. 0. 1. 0. 1. 0. 1. 1. 0. 1. 1. 0. 1. 1. 1. 1. 0. 1.\n",
      " 0. 0. 1. 1. 1.]\n",
      "[[ 1.         -1.13671627 -1.69917353]\n",
      " [ 1.         -1.33300914 -2.32638398]\n",
      " [ 1.          0.79654179  1.44552721]\n",
      " [ 1.          0.55711671 -0.43771341]\n",
      " [ 1.          1.56473819 -1.74932168]\n",
      " [ 1.          0.30042022  1.33190714]\n",
      " [ 1.          0.51638999  2.27346203]\n",
      " [ 1.         -0.94682308  1.62410525]\n",
      " [ 1.         -0.32069737 -1.72143964]\n",
      " [ 1.          1.19510781  1.64106083]\n",
      " [ 1.         -1.32200522 -1.38012943]\n",
      " [ 1.          1.22764441  2.12588493]\n",
      " [ 1.         -2.18530333 -2.32660136]\n",
      " [ 1.         -2.33509127  0.26009494]\n",
      " [ 1.          2.13159125  1.39653522]\n",
      " [ 1.         -0.13536575 -0.8702287 ]\n",
      " [ 1.         -1.84963087 -0.62782328]\n",
      " [ 1.          1.23806743  1.48662999]\n",
      " [ 1.         -1.23616326  0.37398189]\n",
      " [ 1.         -0.84260477 -0.802401  ]\n",
      " [ 1.          1.165871   -2.12534144]\n",
      " [ 1.         -0.21963378 -0.53792099]\n",
      " [ 1.         -0.73237485  2.02231258]\n",
      " [ 1.         -0.99493957 -0.35069619]\n",
      " [ 1.         -1.06727861  1.51479083]\n",
      " [ 1.         -0.49014404  1.92509793]\n",
      " [ 1.          0.71850813 -1.17777898]\n",
      " [ 1.         -1.68959044 -0.65114487]\n",
      " [ 1.         -2.06118001 -1.01756546]]\n"
     ]
    }
   ],
   "source": [
    "data = np.genfromtxt('data.csv', delimiter=',', skip_header=1)\n",
    "\n",
    "X = data[:,:-1]\n",
    "d = data[:,-1]\n",
    "X_ext = insert(X,0,1, axis=1)\n",
    "\n",
    "print (X)\n",
    "print (d)\n",
    "print (X_ext)"
   ]
  },
  {
   "cell_type": "code",
   "execution_count": 25,
   "metadata": {},
   "outputs": [
    {
     "data": {
      "image/png": "[encoded data removed]",
      "text/plain": [
       "<matplotlib.figure.Figure at 0x1196d80f0>"
      ]
     },
     "metadata": {},
     "output_type": "display_data"
    }
   ],
   "source": [
    "c0 = d==0\n",
    "c1 = d==1\n",
    "\n",
    "plot(X[:,0][c0], X[:,1][c0], 'o', mec='r', mfc='none')\n",
    "plot(X[:,0][c1], X[:,1][c1], 'o', mec='g', mfc='none')\n",
    "show()"
   ]
  },
  {
   "cell_type": "code",
   "execution_count": 26,
   "metadata": {},
   "outputs": [],
   "source": [
    "weights = random.rand(1000000,3)*20-10"
   ]
  },
  {
   "cell_type": "code",
   "execution_count": null,
   "metadata": {},
   "outputs": [],
   "source": [
    "oracle = []\n",
    "for w in weights:\n",
    "    error = 0\n",
    "    for i,h in enumerate(dot(X_ext,w)):\n",
    "        if(h>0):\n",
    "            y=1\n",
    "        else:\n",
    "            y=0\n",
    "        error+=0.5*sqrt((d[i]-y)**2)\n",
    "    oracle.append(error)"
   ]
  },
  {
   "cell_type": "code",
   "execution_count": null,
   "metadata": {},
   "outputs": [],
   "source": [
    "print (min(oracle))\n",
    "w = weights[argmin(oracle)]\n",
    "w"
   ]
  },
  {
   "cell_type": "code",
   "execution_count": null,
   "metadata": {},
   "outputs": [],
   "source": [
    "w = [0, 1, 1]"
   ]
  },
  {
   "cell_type": "code",
   "execution_count": null,
   "metadata": {},
   "outputs": [],
   "source": [
    "plot(X[:,0][c0], X[:,1][c0], 'o', mec='r', mfc='none')\n",
    "plot(X[:,0][c1], X[:,1][c1], 'o', mec='g', mfc='none')\n",
    "x=linspace(-2.5,2.5,20)\n",
    "plot(x, [-(w[0]+w[1]*x)/w[2] for x in x], c='b', mfc='none')\n",
    "show()"
   ]
  },
  {
   "cell_type": "code",
   "execution_count": null,
   "metadata": {},
   "outputs": [],
   "source": []
  }
 ],
 "metadata": {
  "kernelspec": {
   "display_name": "Python 3",
   "language": "python",
   "name": "python3"
  },
  "language_info": {
   "codemirror_mode": {
    "name": "ipython",
    "version": 3
   },
   "file_extension": ".py",
   "mimetype": "text/x-python",
   "name": "python",
   "nbconvert_exporter": "python",
   "pygments_lexer": "ipython3",
   "version": "3.6.6"
  }
 },
 "nbformat": 4,
 "nbformat_minor": 2
}
